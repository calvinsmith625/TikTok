{
  "nbformat": 4,
  "nbformat_minor": 0,
  "metadata": {
    "colab": {
      "name": "BuildTheModel",
      "provenance": []
    },
    "kernelspec": {
      "name": "python3",
      "display_name": "Python 3"
    }
  },
  "cells": [
    {
      "cell_type": "markdown",
      "metadata": {
        "id": "dvHMTYIwaOiD"
      },
      "source": [
        "**Pandas is the ultimate data tool, especially if you're just starting out!**"
      ]
    },
    {
      "cell_type": "code",
      "metadata": {
        "id": "30KW1GDbuIe_"
      },
      "source": [
        "import pandas as pd"
      ],
      "execution_count": 1,
      "outputs": []
    },
    {
      "cell_type": "code",
      "metadata": {
        "id": "M1Hvs4Khyzxr"
      },
      "source": [
        "# yourData = pd.read_csv('TYPE FILE PATH HERE')\n",
        "# yourData.head()"
      ],
      "execution_count": 2,
      "outputs": []
    },
    {
      "cell_type": "markdown",
      "metadata": {
        "id": "5dyCXbe4akL4"
      },
      "source": [
        "The below code loads in the data from this exact Github repo using pd.read_csv().\n",
        "\n",
        "The pd is the name we assigned pandas earlier so it is easier to type.\n",
        "\n",
        ".head() displays the top of our data."
      ]
    },
    {
      "cell_type": "code",
      "metadata": {
        "id": "b1C-hoVoAxeA",
        "outputId": "e4637de1-038b-4879-8f6f-6d5850ef5923",
        "colab": {
          "base_uri": "https://localhost:8080/",
          "height": 204
        }
      },
      "source": [
        "yourData = pd.read_csv('https://raw.githubusercontent.com/calvinsmith625/TikTok/main/Regression/housingData.csv',\n",
        "                       index_col=False)\n",
        "yourData.head()"
      ],
      "execution_count": 3,
      "outputs": [
        {
          "output_type": "execute_result",
          "data": {
            "text/html": [
              "<div>\n",
              "<style scoped>\n",
              "    .dataframe tbody tr th:only-of-type {\n",
              "        vertical-align: middle;\n",
              "    }\n",
              "\n",
              "    .dataframe tbody tr th {\n",
              "        vertical-align: top;\n",
              "    }\n",
              "\n",
              "    .dataframe thead th {\n",
              "        text-align: right;\n",
              "    }\n",
              "</style>\n",
              "<table border=\"1\" class=\"dataframe\">\n",
              "  <thead>\n",
              "    <tr style=\"text-align: right;\">\n",
              "      <th></th>\n",
              "      <th>LotArea</th>\n",
              "      <th>SalePrice</th>\n",
              "    </tr>\n",
              "  </thead>\n",
              "  <tbody>\n",
              "    <tr>\n",
              "      <th>0</th>\n",
              "      <td>8450</td>\n",
              "      <td>208500</td>\n",
              "    </tr>\n",
              "    <tr>\n",
              "      <th>1</th>\n",
              "      <td>9600</td>\n",
              "      <td>181500</td>\n",
              "    </tr>\n",
              "    <tr>\n",
              "      <th>2</th>\n",
              "      <td>11250</td>\n",
              "      <td>223500</td>\n",
              "    </tr>\n",
              "    <tr>\n",
              "      <th>3</th>\n",
              "      <td>9550</td>\n",
              "      <td>140000</td>\n",
              "    </tr>\n",
              "    <tr>\n",
              "      <th>4</th>\n",
              "      <td>14260</td>\n",
              "      <td>250000</td>\n",
              "    </tr>\n",
              "  </tbody>\n",
              "</table>\n",
              "</div>"
            ],
            "text/plain": [
              "   LotArea  SalePrice\n",
              "0     8450     208500\n",
              "1     9600     181500\n",
              "2    11250     223500\n",
              "3     9550     140000\n",
              "4    14260     250000"
            ]
          },
          "metadata": {
            "tags": []
          },
          "execution_count": 3
        }
      ]
    },
    {
      "cell_type": "markdown",
      "metadata": {
        "id": "SLkARJVya0yn"
      },
      "source": [
        ".mean() calculates the average of all the columns.\n",
        "\n",
        "round() rounds the numbers to two decimals."
      ]
    },
    {
      "cell_type": "code",
      "metadata": {
        "id": "p8ZTjLTnC7pN",
        "outputId": "a84017f1-6ad8-4ad7-ebd6-2bd80b2b3414",
        "colab": {
          "base_uri": "https://localhost:8080/",
          "height": 68
        }
      },
      "source": [
        "round(yourData.mean(axis = 0), 2)"
      ],
      "execution_count": 4,
      "outputs": [
        {
          "output_type": "execute_result",
          "data": {
            "text/plain": [
              "LotArea        9658.02\n",
              "SalePrice    179516.29\n",
              "dtype: float64"
            ]
          },
          "metadata": {
            "tags": []
          },
          "execution_count": 4
        }
      ]
    },
    {
      "cell_type": "code",
      "metadata": {
        "id": "OwfQNWrMy7Ir",
        "outputId": "f08e16c7-ac8d-460f-9c5e-0d4c0388f0f4",
        "colab": {
          "base_uri": "https://localhost:8080/",
          "height": 532
        }
      },
      "source": [
        "# statsmodels is what we're loading to do the math for us\n",
        "# it'll be called smf from here on\n",
        "# I've found it's easier to use in the beginning than other packages\n",
        "\n",
        "import statsmodels.formula.api as smf\n",
        "\n",
        "# smf.ols() performs regression for us\n",
        "\n",
        "model = smf.ols('SalePrice ~ LotArea', data=yourData).fit()\n",
        "model.summary()"
      ],
      "execution_count": 5,
      "outputs": [
        {
          "output_type": "stream",
          "text": [
            "/usr/local/lib/python3.6/dist-packages/statsmodels/tools/_testing.py:19: FutureWarning: pandas.util.testing is deprecated. Use the functions in the public API at pandas.testing instead.\n",
            "  import pandas.util.testing as tm\n"
          ],
          "name": "stderr"
        },
        {
          "output_type": "execute_result",
          "data": {
            "text/html": [
              "<table class=\"simpletable\">\n",
              "<caption>OLS Regression Results</caption>\n",
              "<tr>\n",
              "  <th>Dep. Variable:</th>        <td>SalePrice</td>    <th>  R-squared:         </th> <td>   0.158</td> \n",
              "</tr>\n",
              "<tr>\n",
              "  <th>Model:</th>                   <td>OLS</td>       <th>  Adj. R-squared:    </th> <td>   0.157</td> \n",
              "</tr>\n",
              "<tr>\n",
              "  <th>Method:</th>             <td>Least Squares</td>  <th>  F-statistic:       </th> <td>   269.5</td> \n",
              "</tr>\n",
              "<tr>\n",
              "  <th>Date:</th>             <td>Tue, 27 Oct 2020</td> <th>  Prob (F-statistic):</th> <td>1.24e-55</td> \n",
              "</tr>\n",
              "<tr>\n",
              "  <th>Time:</th>                 <td>00:21:49</td>     <th>  Log-Likelihood:    </th> <td> -18111.</td> \n",
              "</tr>\n",
              "<tr>\n",
              "  <th>No. Observations:</th>      <td>  1438</td>      <th>  AIC:               </th> <td>3.623e+04</td>\n",
              "</tr>\n",
              "<tr>\n",
              "  <th>Df Residuals:</th>          <td>  1436</td>      <th>  BIC:               </th> <td>3.624e+04</td>\n",
              "</tr>\n",
              "<tr>\n",
              "  <th>Df Model:</th>              <td>     1</td>      <th>                     </th>     <td> </td>    \n",
              "</tr>\n",
              "<tr>\n",
              "  <th>Covariance Type:</th>      <td>nonrobust</td>    <th>                     </th>     <td> </td>    \n",
              "</tr>\n",
              "</table>\n",
              "<table class=\"simpletable\">\n",
              "<tr>\n",
              "      <td></td>         <th>coef</th>     <th>std err</th>      <th>t</th>      <th>P>|t|</th>  <th>[0.025</th>    <th>0.975]</th>  \n",
              "</tr>\n",
              "<tr>\n",
              "  <th>Intercept</th> <td> 1.028e+05</td> <td> 5040.863</td> <td>   20.385</td> <td> 0.000</td> <td> 9.29e+04</td> <td> 1.13e+05</td>\n",
              "</tr>\n",
              "<tr>\n",
              "  <th>LotArea</th>   <td>    7.9477</td> <td>    0.484</td> <td>   16.416</td> <td> 0.000</td> <td>    6.998</td> <td>    8.897</td>\n",
              "</tr>\n",
              "</table>\n",
              "<table class=\"simpletable\">\n",
              "<tr>\n",
              "  <th>Omnibus:</th>       <td>497.876</td> <th>  Durbin-Watson:     </th> <td>   2.007</td>\n",
              "</tr>\n",
              "<tr>\n",
              "  <th>Prob(Omnibus):</th> <td> 0.000</td>  <th>  Jarque-Bera (JB):  </th> <td>2424.217</td>\n",
              "</tr>\n",
              "<tr>\n",
              "  <th>Skew:</th>          <td> 1.558</td>  <th>  Prob(JB):          </th> <td>    0.00</td>\n",
              "</tr>\n",
              "<tr>\n",
              "  <th>Kurtosis:</th>      <td> 8.545</td>  <th>  Cond. No.          </th> <td>2.79e+04</td>\n",
              "</tr>\n",
              "</table><br/><br/>Warnings:<br/>[1] Standard Errors assume that the covariance matrix of the errors is correctly specified.<br/>[2] The condition number is large, 2.79e+04. This might indicate that there are<br/>strong multicollinearity or other numerical problems."
            ],
            "text/plain": [
              "<class 'statsmodels.iolib.summary.Summary'>\n",
              "\"\"\"\n",
              "                            OLS Regression Results                            \n",
              "==============================================================================\n",
              "Dep. Variable:              SalePrice   R-squared:                       0.158\n",
              "Model:                            OLS   Adj. R-squared:                  0.157\n",
              "Method:                 Least Squares   F-statistic:                     269.5\n",
              "Date:                Tue, 27 Oct 2020   Prob (F-statistic):           1.24e-55\n",
              "Time:                        00:21:49   Log-Likelihood:                -18111.\n",
              "No. Observations:                1438   AIC:                         3.623e+04\n",
              "Df Residuals:                    1436   BIC:                         3.624e+04\n",
              "Df Model:                           1                                         \n",
              "Covariance Type:            nonrobust                                         \n",
              "==============================================================================\n",
              "                 coef    std err          t      P>|t|      [0.025      0.975]\n",
              "------------------------------------------------------------------------------\n",
              "Intercept   1.028e+05   5040.863     20.385      0.000    9.29e+04    1.13e+05\n",
              "LotArea        7.9477      0.484     16.416      0.000       6.998       8.897\n",
              "==============================================================================\n",
              "Omnibus:                      497.876   Durbin-Watson:                   2.007\n",
              "Prob(Omnibus):                  0.000   Jarque-Bera (JB):             2424.217\n",
              "Skew:                           1.558   Prob(JB):                         0.00\n",
              "Kurtosis:                       8.545   Cond. No.                     2.79e+04\n",
              "==============================================================================\n",
              "\n",
              "Warnings:\n",
              "[1] Standard Errors assume that the covariance matrix of the errors is correctly specified.\n",
              "[2] The condition number is large, 2.79e+04. This might indicate that there are\n",
              "strong multicollinearity or other numerical problems.\n",
              "\"\"\""
            ]
          },
          "metadata": {
            "tags": []
          },
          "execution_count": 5
        }
      ]
    },
    {
      "cell_type": "code",
      "metadata": {
        "id": "vEDXHr7Gy7R2",
        "outputId": "f85cb1d2-8d11-461b-a13f-49d6142c15ce",
        "colab": {
          "base_uri": "https://localhost:8080/",
          "height": 366
        }
      },
      "source": [
        "# seaborn is a great plotting library\n",
        "# sns.set_style() allows us to import a nice format\n",
        "\n",
        "import seaborn as sns\n",
        "sns.set_style(\"whitegrid\")\n",
        "\n",
        "# sns.regplot() builds the various features of the plot\n",
        "\n",
        "sns.regplot('LotArea', 'SalePrice',\n",
        "            data=yourData, line_kws={'color': 'red'}).set_title('Predict House Prices')"
      ],
      "execution_count": 6,
      "outputs": [
        {
          "output_type": "stream",
          "text": [
            "/usr/local/lib/python3.6/dist-packages/seaborn/_decorators.py:43: FutureWarning: Pass the following variables as keyword args: x, y. From version 0.12, the only valid positional argument will be `data`, and passing other arguments without an explicit keyword will result in an error or misinterpretation.\n",
            "  FutureWarning\n"
          ],
          "name": "stderr"
        },
        {
          "output_type": "execute_result",
          "data": {
            "text/plain": [
              "Text(0.5, 1.0, 'Predict House Prices')"
            ]
          },
          "metadata": {
            "tags": []
          },
          "execution_count": 6
        },
        {
          "output_type": "display_data",
          "data": {
            "image/png": "[encoded data removed]",
            "text/plain": [
              "<Figure size 432x288 with 1 Axes>"
            ]
          },
          "metadata": {
            "tags": []
          }
        }
      ]
    }
  ]
}